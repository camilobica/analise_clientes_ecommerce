{
 "cells": [
  {
   "cell_type": "code",
   "execution_count": 1,
   "id": "d81aed07-2379-41b4-8aaf-1ce1046e5139",
   "metadata": {},
   "outputs": [
    {
     "name": "stdout",
     "output_type": "stream",
     "text": [
      "Arquivo CSV salvo com sucesso em: C:\\Users\\Camilo_Bica\\data_science\\portifolio\\customer_shopping\\dados\\clientes_ficticios.csv\n"
     ]
    }
   ],
   "source": [
    "import pandas as pd\n",
    "import numpy as np\n",
    "\n",
    "# Gerar 100 clientes fictícios\n",
    "np.random.seed(42)\n",
    "n = 1000\n",
    "\n",
    "dados_sinteticos = pd.DataFrame({\n",
    "    \"Item Purchased\": np.random.choice([\"Shoes\", \"Jeans\", \"T-shirt\", \"Jacket\", \"Dress\"], n),\n",
    "    \"Category\": np.random.choice([\"Footwear\", \"Clothing\", \"Accessories\", \"Outerwear\"], n),\n",
    "    \"Color\": np.random.choice([\"Black\", \"White\", \"Blue\", \"Red\", \"Green\", \"Yellow\"], n),\n",
    "    \"Location\": np.random.choice([\"Texas\", \"California\", \"New York\", \"Florida\", \"Nevada\"], n),\n",
    "    \"Size\": np.random.choice([\"S\", \"M\", \"L\", \"XL\"], n),\n",
    "    \"Gender\": np.random.choice([\"Male\", \"Female\"], n),\n",
    "    \"Shipping Type\": np.random.choice([\"Standard\", \"Express\"], n),\n",
    "    \"Payment Method\": np.random.choice([\"Credit Card\", \"Debit Card\", \"PayPal\"], n),\n",
    "    \"Discount Applied\": np.random.choice([0, 1], n),\n",
    "    \"Subscription Status\": np.random.choice([0, 1], n),\n",
    "    \"Season\": np.random.choice([\"Summer\", \"Winter\", \"Spring\", \"Fall\"], n),\n",
    "    \"Frequency of Purchases\": np.random.choice([\"Monthly\", \"Weekly\", \"Occasionally\"], n),\n",
    "    \"Previous Purchases\": np.random.randint(0, 10, n),\n",
    "    \"Purchase Amount (USD)\": np.random.uniform(10, 500, n).round(2),\n",
    "    \"Age\": np.random.randint(18, 70, n)\n",
    "})\n",
    "\n",
    "# Caminho para salvar em CSV\n",
    "output_csv = r\"C:\\Users\\Camilo_Bica\\data_science\\portifolio\\customer_shopping\\dados\\clientes_ficticios.csv\"\n",
    "\n",
    "# Salvar como CSV\n",
    "dados_sinteticos.to_csv(output_csv, index=False)\n",
    "\n",
    "print(\"Arquivo CSV salvo com sucesso em:\", output_csv)"
   ]
  }
 ],
 "metadata": {
  "kernelspec": {
   "display_name": "Python 3 (ipykernel)",
   "language": "python",
   "name": "python3"
  },
  "language_info": {
   "codemirror_mode": {
    "name": "ipython",
    "version": 3
   },
   "file_extension": ".py",
   "mimetype": "text/x-python",
   "name": "python",
   "nbconvert_exporter": "python",
   "pygments_lexer": "ipython3",
   "version": "3.12.3"
  }
 },
 "nbformat": 4,
 "nbformat_minor": 5
}
